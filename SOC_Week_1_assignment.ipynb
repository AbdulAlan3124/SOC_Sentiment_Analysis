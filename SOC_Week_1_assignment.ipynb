{
  "nbformat": 4,
  "nbformat_minor": 0,
  "metadata": {
    "colab": {
      "provenance": []
    },
    "kernelspec": {
      "name": "python3",
      "display_name": "Python 3"
    },
    "language_info": {
      "name": "python"
    }
  },
  "cells": [
    {
      "cell_type": "markdown",
      "source": [
        "**You can use Google but don't use ChatGPT and Gemini. You are here to learn. Follow the instructions given below and write the code in that cell only.**\n"
      ],
      "metadata": {
        "id": "eFK9pJ4ZFNWA"
      }
    },
    {
      "cell_type": "code",
      "execution_count": 82,
      "metadata": {
        "id": "ID1GIlQxfnl3"
      },
      "outputs": [],
      "source": [
        "# Question 1: Create three variables one containing an integer value,\n",
        "# one containing floating point value and the last one contains string value.\n",
        "# Accept the value of all three variables from the user.\n",
        "# Print out the data types of the variables using a predifined function.\n",
        "# What is the square of the first and second variables? Add 97 to them. Subtract 3 from them and then divide them by the original value before squaring.\n",
        "# Append your name to the third variable and display the value.\n",
        "# Write your code in this cell.\n",
        "\n",
        "\n",
        "\n",
        "\n"
      ]
    },
    {
      "cell_type": "code",
      "source": [
        "# Question 2: Define a function that accepts a value and prints out the multipication table from 1 to 20.\n",
        "# Write your code in this cell.\n",
        "\n"
      ],
      "metadata": {
        "id": "9lHNLlcIinP6"
      },
      "execution_count": 83,
      "outputs": []
    },
    {
      "cell_type": "code",
      "source": [
        "# Question 3: How many vowels are present in the new value of the third variable?\n",
        "# Write your code in this cell.\n",
        "\n"
      ],
      "metadata": {
        "id": "ZDXUDhZAi1Wd"
      },
      "execution_count": 84,
      "outputs": []
    },
    {
      "cell_type": "code",
      "source": [
        "# Question 4: Start\n",
        "# Import the numpy library\n",
        "\n"
      ],
      "metadata": {
        "id": "NYG6NaFLmhXH"
      },
      "execution_count": 85,
      "outputs": []
    },
    {
      "cell_type": "code",
      "source": [
        "# Create a numpy array of size 10.\n",
        "\n"
      ],
      "metadata": {
        "id": "oSHPAEP21bVC"
      },
      "execution_count": 86,
      "outputs": []
    },
    {
      "cell_type": "code",
      "source": [
        "# Resize the array to make it a column vector. So the shape will be (10, 1).\n",
        "# Print the shape of the array to verify your answer\n",
        "\n",
        "\n"
      ],
      "metadata": {
        "id": "1MinSlqL1ddz"
      },
      "execution_count": 87,
      "outputs": []
    },
    {
      "cell_type": "code",
      "source": [
        "# Create a numpy array of the above shape where all elements are 1\n",
        "# Add this array to the above column vector\n",
        "\n",
        "\n"
      ],
      "metadata": {
        "id": "AT5sRZ5b1ff9"
      },
      "execution_count": 88,
      "outputs": []
    },
    {
      "cell_type": "code",
      "source": [
        "# Print out the first 5 rows of the new column vector after addition\n",
        "\n"
      ],
      "metadata": {
        "id": "0310rxvx1ha3"
      },
      "execution_count": 89,
      "outputs": []
    },
    {
      "cell_type": "code",
      "source": [
        "# Create a new array of the same shape which have random values\n",
        "\n"
      ],
      "metadata": {
        "id": "4ETfZUga1jhk"
      },
      "execution_count": 90,
      "outputs": []
    },
    {
      "cell_type": "code",
      "source": [
        "# Now perform hstack() and vstack() and print out the shape and write in\n",
        "# one line what difference you observe\n",
        "\n",
        "\n",
        "\n",
        "\n"
      ],
      "metadata": {
        "id": "cW_PV85q1l5m"
      },
      "execution_count": 91,
      "outputs": []
    },
    {
      "cell_type": "code",
      "source": [
        "# Make a list conatining 7 numbers (of your choice)\n",
        "# Convert this into numpy array\n",
        "# Explore how to do element wise squaring using (**) operator\n",
        "# Print out the result\n",
        "\n",
        "\n"
      ],
      "metadata": {
        "id": "uZhTfSAVEcNo"
      },
      "execution_count": 92,
      "outputs": []
    },
    {
      "cell_type": "code",
      "source": [
        "# Question 4: End\n",
        "# Explore broadcasting from the internet and explain what you understood with the help of an example.\n",
        "\n",
        "\n",
        "\n"
      ],
      "metadata": {
        "id": "Ak__1auv1noj"
      },
      "execution_count": 93,
      "outputs": []
    },
    {
      "cell_type": "markdown",
      "source": [
        "**Dataset Link:** https://www.kaggle.com/datasets/himanshunakrani/iris-dataset"
      ],
      "metadata": {
        "id": "QiOvo5JkMl1L"
      }
    },
    {
      "cell_type": "markdown",
      "source": [
        "**If you are using Google Colab:<br>\n",
        "Step 1: Upload the dataset on your drive<br>\n",
        "Step 2: In the left most part of you screen there are 5 options at the top and 3 options at the bottm.<br>\n",
        "Step 3: Click on Files option (last option in the top below the key symbol)<br>\n",
        "Step 4: Click on mount drive and wait.<br>\n",
        "Step 5: Now you can see a folder named drive.<br>\n",
        "Step 6: Click on it. Click on MyDrive. Now you can see all your files here.<br>\n",
        "Step 7: Use Ctrl+F to search the name of the dataset.<br>\n",
        "Step 8: Right click on it and click on copy path**\n",
        "\n",
        "\n",
        "\n",
        "\n"
      ],
      "metadata": {
        "id": "uJNhA_dcINuG"
      }
    },
    {
      "cell_type": "markdown",
      "source": [
        "**If you are using Jupyter Notebook:<br>\n",
        "Step 1: Create a new folder.<br>\n",
        "Step 2: Add the dataset in this folder<br>\n",
        "Step 3: Copy this notebook to the same folder.<br>\n",
        "Step 4: Now you can easily copy the path**"
      ],
      "metadata": {
        "id": "h6HaxTkDLekA"
      }
    },
    {
      "cell_type": "code",
      "source": [
        "# Question 5: Start\n",
        "# import pandas library\n",
        "\n"
      ],
      "metadata": {
        "id": "hGiUFU6q2Oye"
      },
      "execution_count": 94,
      "outputs": []
    },
    {
      "cell_type": "code",
      "source": [
        "# Copy your path and store in the below variable.\n",
        "# Note that the path will be a string\n",
        "\n",
        "# Uncomment the below line\n",
        "\"\"\"\n",
        "path = your path of the dataset\n",
        "\"\"\"\n",
        "\n",
        "# Load the dataframe\n"
      ],
      "metadata": {
        "id": "zI4vNQTBIMdu"
      },
      "execution_count": 95,
      "outputs": []
    },
    {
      "cell_type": "code",
      "source": [
        "# Print out the first 7 rows using head()\n"
      ],
      "metadata": {
        "id": "LVCrfnfnNNNm"
      },
      "execution_count": 96,
      "outputs": []
    },
    {
      "cell_type": "code",
      "source": [
        "# Print out the last 10 rows\n"
      ],
      "metadata": {
        "id": "XmY-Ku6rNZQv"
      },
      "execution_count": 97,
      "outputs": []
    },
    {
      "cell_type": "code",
      "source": [
        "# How many rows and columns are there in this dataset\n"
      ],
      "metadata": {
        "id": "LvK9ML7YON_s"
      },
      "execution_count": 98,
      "outputs": []
    },
    {
      "cell_type": "code",
      "source": [
        "# Print the info of this dataset\n"
      ],
      "metadata": {
        "id": "SJQWkiNDP8FY"
      },
      "execution_count": 99,
      "outputs": []
    },
    {
      "cell_type": "code",
      "source": [
        "# Check if the dataset has null values\n"
      ],
      "metadata": {
        "id": "GPCqLqNNSACB"
      },
      "execution_count": 100,
      "outputs": []
    },
    {
      "cell_type": "code",
      "source": [
        "# From the describe method what is std (standard deviation) of petal_width\n"
      ],
      "metadata": {
        "id": "QlmsdjQDQCXv"
      },
      "execution_count": 101,
      "outputs": []
    },
    {
      "cell_type": "code",
      "source": [
        "# Print out all the names of the column using a predifined method\n"
      ],
      "metadata": {
        "id": "zS5be-zkQYIs"
      },
      "execution_count": 102,
      "outputs": []
    },
    {
      "cell_type": "code",
      "source": [
        "# How many types of values are there in species column\n"
      ],
      "metadata": {
        "id": "xpZRSnHTQrTB"
      },
      "execution_count": 103,
      "outputs": []
    },
    {
      "cell_type": "code",
      "source": [
        "# Select all rows whose species column value is setosa\n",
        "# Print out the shape of this dataframe\n"
      ],
      "metadata": {
        "id": "ICI6D0GFQdgL"
      },
      "execution_count": 104,
      "outputs": []
    },
    {
      "cell_type": "code",
      "source": [
        "# Select all rows whose species column value is virginica\n",
        "# Print out the shape of this dataframe\n"
      ],
      "metadata": {
        "id": "wvevwDbbQy6J"
      },
      "execution_count": 105,
      "outputs": []
    },
    {
      "cell_type": "code",
      "source": [
        "# Make a new dataframe called \"df_new\" by concatenating the above dataframes\n",
        "# Print out the shape of this dataframe\n",
        "\n"
      ],
      "metadata": {
        "id": "fb2o9LD1Q4bx"
      },
      "execution_count": 106,
      "outputs": []
    },
    {
      "cell_type": "code",
      "source": [
        "# Print the average sepal_length of these two species\n"
      ],
      "metadata": {
        "id": "RI1ChgwdRj0P"
      },
      "execution_count": 107,
      "outputs": []
    },
    {
      "cell_type": "code",
      "source": [
        "# Create a new column called \"sepal_area\" which is computed by taking the product of sepal_length and sepal_width\n",
        "# Print the min and max area\n",
        "\n"
      ],
      "metadata": {
        "id": "B_bfdYfgR7WE"
      },
      "execution_count": 108,
      "outputs": []
    },
    {
      "cell_type": "code",
      "source": [
        "# Print out all the names of the columns using predefined method\n"
      ],
      "metadata": {
        "id": "fnYZwhJOSQ4Q"
      },
      "execution_count": 109,
      "outputs": []
    },
    {
      "cell_type": "code",
      "source": [
        "# From the above output copy all the names except petal_length and store it in a list\n"
      ],
      "metadata": {
        "id": "NbEhQJzHScsN"
      },
      "execution_count": 110,
      "outputs": []
    },
    {
      "cell_type": "code",
      "source": [
        "# From the above list create a new dataframe \"df_new2\" from df_new which have only the columns mentioned in the list\n",
        "# Print out the shape\n",
        "\n"
      ],
      "metadata": {
        "id": "A5AduuCSSs3G"
      },
      "execution_count": 111,
      "outputs": []
    },
    {
      "cell_type": "code",
      "source": [
        "# Swap setosa with 1\n",
        "# Swap virginica with 0\n",
        "# Do this using replace()\n"
      ],
      "metadata": {
        "id": "afJyup97TNGP"
      },
      "execution_count": 112,
      "outputs": []
    },
    {
      "cell_type": "markdown",
      "source": [
        "**Assignment END<br>\n",
        "Please submit this on teams before the deadline**"
      ],
      "metadata": {
        "id": "0e_hs7ujViAg"
      }
    }
  ]
}