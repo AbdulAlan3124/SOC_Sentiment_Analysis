{
  "nbformat": 4,
  "nbformat_minor": 0,
  "metadata": {
    "colab": {
      "provenance": []
    },
    "kernelspec": {
      "name": "python3",
      "display_name": "Python 3"
    },
    "language_info": {
      "name": "python"
    }
  },
  "cells": [
    {
      "cell_type": "markdown",
      "source": [
        "**You can use Google but please don't use ChatGPT or Gemini or any other generative AI. You are here to learn.**"
      ],
      "metadata": {
        "id": "xZxtLsYVCI7a"
      }
    },
    {
      "cell_type": "markdown",
      "source": [
        "**File Link:** https://drive.google.com/file/d/1ARR8Ur_m7SGuxn4pt6VjAYCrZCM0jZsT/view?usp=sharing"
      ],
      "metadata": {
        "id": "pX3LfQIwKhpu"
      }
    },
    {
      "cell_type": "code",
      "source": [
        "# Download the above text file and upload it on your drive\n",
        "# Store all the words in a list which will be used later\n",
        "# Print out the number of words in this text file\n",
        "\n",
        "\n",
        "\n",
        "\n",
        "\n"
      ],
      "metadata": {
        "id": "eps2qi15M9f4"
      },
      "execution_count": null,
      "outputs": []
    },
    {
      "cell_type": "markdown",
      "source": [
        "**File Link:** https://drive.google.com/file/d/1P1aV--2ks02i103zsQiQgu1dWu3k-AVo/view?usp=sharing"
      ],
      "metadata": {
        "id": "J3jfnX1t4v5L"
      }
    },
    {
      "cell_type": "code",
      "source": [
        "# Download the above text file and upload it on your drive\n",
        "# Apply Regex\n",
        "# Extract all phone numbers and email addresses\n",
        "# Phone number format: +91 ........ (plus nine one space and then ten digits)\n",
        "# Email address format: name@company.com (letters@letters.com) where letters can be any word containing letters\n",
        "# Example: +91 6958471234\n",
        "# Example: alexandraTrusova@russia.com\n",
        "\n",
        "\n",
        "\n",
        "\n",
        "\n",
        "\n",
        "\n"
      ],
      "metadata": {
        "id": "jrJvVp2VNHFp"
      },
      "execution_count": null,
      "outputs": []
    },
    {
      "cell_type": "code",
      "source": [
        "# Using the list of words created in the very first cell, print out the original word and its respective lemma\n",
        "# Do this for the first ten words and for the last ten words\n",
        "\n",
        "\n",
        "\n",
        "\n",
        "\n",
        "\n",
        "\n"
      ],
      "metadata": {
        "id": "0cVNypn68Jem"
      },
      "execution_count": null,
      "outputs": []
    },
    {
      "cell_type": "code",
      "source": [
        "# Show a meanigful example about NER and POS\n",
        "# Explain in two lines what you understood\n",
        "\n",
        "\n",
        "\n",
        "\n",
        "\n",
        "\n",
        "\n"
      ],
      "metadata": {
        "id": "6VpA3Lyg8Zqw"
      },
      "execution_count": null,
      "outputs": []
    },
    {
      "cell_type": "markdown",
      "source": [
        "**Assignment END<br>\n",
        "Please submit this on Teams before deadline**"
      ],
      "metadata": {
        "id": "XTdi2pGL8q41"
      }
    }
  ]
}