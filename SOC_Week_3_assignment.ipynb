{
  "nbformat": 4,
  "nbformat_minor": 0,
  "metadata": {
    "colab": {
      "provenance": []
    },
    "kernelspec": {
      "name": "python3",
      "display_name": "Python 3"
    },
    "language_info": {
      "name": "python"
    }
  },
  "cells": [
    {
      "cell_type": "markdown",
      "source": [
        "**<h1>Your very fist project</h1>**"
      ],
      "metadata": {
        "id": "RJ7uyRFcUzuX"
      }
    },
    {
      "cell_type": "markdown",
      "source": [
        "**You can use Google but please don't use ChatGPT or Gemini or any other generative AI. You are here to learn.**"
      ],
      "metadata": {
        "id": "_p32LI4lVJKP"
      }
    },
    {
      "cell_type": "markdown",
      "source": [
        "**Dataset Link:** https://www.kaggle.com/datasets/yasserh/breast-cancer-dataset?select=breast-cancer.csv"
      ],
      "metadata": {
        "id": "eXXjT8ukVUfn"
      }
    },
    {
      "cell_type": "markdown",
      "source": [
        "**M - Malignant (cancerous)<br>\n",
        "B - Benign (non-cancerous)**"
      ],
      "metadata": {
        "id": "7Wi-cF89WBpN"
      }
    },
    {
      "cell_type": "markdown",
      "source": [
        "**Instructions:<br>\n",
        "Step 1:Load the dataset using pandas<br>\n",
        "Step 2:Explore the dataset by printing out few rows, shape of df, info of df, column names etc.<br>\n",
        "Step 3: Check for null values and handle them (if any). Drop the Id column.<br>\n",
        "Step 4: Use your knowledge of feature selection using correlation matrix to select 10 features out of 31. Give proper reasons for the same.<br><br>**\n",
        "*Use this code:<br>*\n",
        "*import seaborn as sns<br>*\n",
        "*df1 = df[ list_of_column_names_required ]<br>*\n",
        "*dataplot = sns.heatmap(df1.corr(), cmap=\"YlGnBu\", annot=True)<br><br>*\n",
        "*Select two features from column_list_1 = ['diagnosis', 'radius_mean', 'texture_mean', 'perimeter_mean',\n",
        "       'area_mean', 'smoothness_mean', 'compactness_mean', 'concavity_mean',\n",
        "       'symmetry_mean', 'fractal_dimension_mean']<br><br>*\n",
        "*Select 6 features from column_list_2 = ['diagnosis','concave points_se', 'symmetry_se',\n",
        "       'fractal_dimension_se', 'radius_worst', 'texture_worst',\n",
        "       'perimeter_worst', 'area_worst', 'smoothness_worst',\n",
        "       'compactness_worst', 'concavity_worst', 'concave points_worst', 'fractal_dimension_worst']<br><br>*\n",
        "*Select 2 features from column_list_3 = ['diagnosis','concave points_mean', 'symmetry_mean',\n",
        "       'radius_se', 'perimeter_se', 'area_se',\n",
        "       'compactness_se', 'concavity_se', 'concave points_se',\n",
        "        'radius_worst', 'texture_worst',\n",
        "       'perimeter_worst', 'area_worst',]<br><br>*\n",
        "**Step 5: Exploratory Data Analysis. Think what you can plot which can convey some useful information. One bar plot, one pie chart and one scatter plot is required. Give proper reasoning of what you have plot.<br>\n",
        "Step 6: Divide df_new (dataframe which only have the selected 10 columns) into X and Y<br>\n",
        "Step 7: Perform train test split with test_size = 0.2<br>\n",
        "Step 8: Normalise<br>\n",
        "Step 9: Train a logistic regression model and print out the classification report (explore from internet) after predicting on X_test<br>\n",
        "Step 10: Train a SVC and print out the classification report<br>\n",
        "Step 11: Train KNN and print out the classification report<br>\n",
        "Step 12: Choose a metric on which you will compare the models. Give proper reason why you chose that metric.<br>\n",
        "Step 13: Using the above metric, state your best model.<br>\n",
        "Step 14: Suppose for example SVC was your best model. Now train a new SVC model but this time consider all the columns of the dataset. Follow the same steps to divide the df into X and Y, performing split,etc.<br>\n",
        "Step 15: Now compare this model with the best model achieved in Step 13.<br>\n",
        "Step 16: Write in 2 lines what you observe. Can you also tell why you observe?**"
      ],
      "metadata": {
        "id": "UAiCg4dBWm7f"
      }
    },
    {
      "cell_type": "markdown",
      "source": [
        "**After Step 16, assignment ends. <br>\n",
        "Please submit on teams before deadline.<br>\n",
        "HURRAY!! You have made your very first ML project. More to come soon!**"
      ],
      "metadata": {
        "id": "xmYqxVQ0nLgV"
      }
    },
    {
      "cell_type": "code",
      "source": [],
      "metadata": {
        "id": "F8wHNLnEc1D8"
      },
      "execution_count": null,
      "outputs": []
    }
  ]
}